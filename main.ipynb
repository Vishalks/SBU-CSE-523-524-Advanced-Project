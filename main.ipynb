{
 "cells": [
  {
   "cell_type": "code",
   "execution_count": null,
   "metadata": {},
   "outputs": [],
   "source": [
    "'''Main function for letter, college and spam datasets.\n",
    "'''"
   ]
  },
  {
   "cell_type": "code",
   "execution_count": 1,
   "metadata": {},
   "outputs": [],
   "source": [
    "# Necessary packages\n",
    "from __future__ import absolute_import\n",
    "from __future__ import division\n",
    "from __future__ import print_function"
   ]
  },
  {
   "cell_type": "code",
   "execution_count": 2,
   "metadata": {},
   "outputs": [],
   "source": [
    "import argparse\n",
    "import numpy as np"
   ]
  },
  {
   "cell_type": "code",
   "execution_count": 3,
   "metadata": {},
   "outputs": [
    {
     "name": "stderr",
     "output_type": "stream",
     "text": [
      "Using TensorFlow backend.\n"
     ]
    }
   ],
   "source": [
    "from data_loader import data_loader\n",
    "from gain import gain\n",
    "from utils import rmse_loss"
   ]
  },
  {
   "cell_type": "code",
   "execution_count": 6,
   "metadata": {
    "lines_to_next_cell": 1
   },
   "outputs": [],
   "source": [
    "def main (args):\n",
    "  '''Main function for letter, college and spam datasets.\n",
    "  \n",
    "  Args:\n",
    "    - data_name: letter or spam\n",
    "    - miss_rate: probability of missing components\n",
    "    - batch:size: batch size\n",
    "    - hint_rate: hint rate\n",
    "    - alpha: hyperparameter\n",
    "    - iterations: iterations\n",
    "    \n",
    "  Returns:\n",
    "    - imputed_data_x: imputed data\n",
    "    - rmse: Root Mean Squared Error\n",
    "  '''\n",
    "  \n",
    "  data_name = args['data_name']\n",
    "  miss_rate = args['miss_rate']\n",
    "  \n",
    "  gain_parameters = {'batch_size': args['batch_size'],\n",
    "                     'hint_rate': args['hint_rate'],\n",
    "                     'alpha': args['alpha'],\n",
    "                     'iterations': args['iterations']}\n",
    "  \n",
    "  # Load data and introduce missingness\n",
    "  ori_data_x, miss_data_x, data_m = data_loader(data_name, miss_rate)\n",
    "  \n",
    "  # Impute missing data\n",
    "  imputed_data_x = gain(miss_data_x, gain_parameters)\n",
    "  \n",
    "  # Report the RMSE performance\n",
    "  rmse = rmse_loss (ori_data_x, imputed_data_x, data_m)\n",
    "  \n",
    "  print()\n",
    "  print('RMSE Performance: ' + str(np.round(rmse, 4)))\n",
    "  \n",
    "  return imputed_data_x, rmse"
   ]
  },
  {
   "cell_type": "code",
   "execution_count": 31,
   "metadata": {},
   "outputs": [],
   "source": [
    "args = {}\n",
    "args['data_name'] = 'spam'\n",
    "args['miss_rate'] = 0.2\n",
    "args['batch_size'] = 128\n",
    "args['hint_rate'] = 0.9\n",
    "args['alpha'] = 100\n",
    "args['iterations'] = 10000"
   ]
  },
  {
   "cell_type": "code",
   "execution_count": 32,
   "metadata": {},
   "outputs": [
    {
     "name": "stderr",
     "output_type": "stream",
     "text": [
      "100%|██████████| 10000/10000 [00:59<00:00, 169.47it/s]\n"
     ]
    },
    {
     "name": "stdout",
     "output_type": "stream",
     "text": [
      "\n",
      "RMSE Performance: 0.0542\n"
     ]
    }
   ],
   "source": [
    "imputed_data, rmse = main(args)"
   ]
  },
  {
   "cell_type": "code",
   "execution_count": null,
   "metadata": {},
   "outputs": [],
   "source": [
    "#write imputed data to csv for analysis and visualisation\n",
    "imputed_data.to_csv(index=False)"
   ]
  }
 ],
 "metadata": {
  "jupytext": {
   "cell_metadata_filter": "-all",
   "main_language": "python",
   "notebook_metadata_filter": "-all"
  },
  "kernelspec": {
   "display_name": "Python 3",
   "language": "python",
   "name": "python3"
  },
  "language_info": {
   "codemirror_mode": {
    "name": "ipython",
    "version": 3
   },
   "file_extension": ".py",
   "mimetype": "text/x-python",
   "name": "python",
   "nbconvert_exporter": "python",
   "pygments_lexer": "ipython3",
   "version": "3.7.3"
  }
 },
 "nbformat": 4,
 "nbformat_minor": 4
}
